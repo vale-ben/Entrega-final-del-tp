{
 "cells": [
  {
   "cell_type": "markdown",
   "metadata": {
    "collapsed": true,
    "id": "Dh8MkXaG-c9Y",
    "jupyter": {
     "outputs_hidden": true
    }
   },
   "source": [
    "# Curso de Big Data. Otoño 2024\n",
    "\n",
    "## Trabajo Práctico 1 - Parte 1 "
   ]
  },
  {
   "cell_type": "markdown",
   "metadata": {
    "id": "RhBlm6mZ-c9e"
   },
   "source": [
    "### Reglas de formato y presentación\n",
    "- El trabajo debe estar bien comentado (utilizando #) para que el código sea fácil de entender por sus compañeros y profesores.\n",
    "\n",
    "- El mismo debe ser completado en este Jupyter Notebook y entregado como tal, es decir en un archivo .ipynb\n"
   ]
  },
  {
   "cell_type": "markdown",
   "metadata": {
    "id": "ZEjGaa4U-c9g"
   },
   "source": [
    "### Fecha de entrega:\n",
    "Domingo 24 de marzo a las 23:59hs"
   ]
  },
  {
   "cell_type": "markdown",
   "metadata": {
    "id": "N9TU2y7E-c9h"
   },
   "source": [
    "### Modalidad de entrega\n",
    "- Al finalizar el trabajo práctico deben hacer un último <i>commit</i> en su repositorio de GitHub con el mensaje “Entrega final del tp”. \n",
    "- Asegurense de haber creado una carpeta llamada TP1. Este Jupyter Notebook y el correspondiente al TP1 - Parte 2 deben estar dentro de esa carpeta.\n",
    "- También deben enviar el link de su repositorio -para que pueda ser clonado y corregido- al siguiente email: v.oubina@gmail.com\n",
    "- La última versión en el repositorio es la que será evaluada. Por lo que es importante que: \n",
    "    - No envien el correo hasta no haber terminado y estar seguros de que han hecho el <i>commit y push</i> a la versión final que quieren entregar. Debido a que se pueden tomar hasta 3 días de extensión a lo largo del curso, no se corregirán sus tareas hasta no recibir el correo.\n",
    "    - No hagan nuevos <i>push</i> despues de haber entregado su versión final. Esto generaría confusión acerca de que versión es la que quieren que se les corrija. "
   ]
  },
  {
   "cell_type": "markdown",
   "metadata": {
    "id": "ZXbrPraa-c9i"
   },
   "source": [
    "#### Ejercicio 1\n",
    "Este ejercicio simplemente busca repasar lo que aprendimos sobre definición de variables. Definir dos variables con un nombre combinado (al menos dos palabras), una que se pueda crear y otra que tenga un nombre inaceptable (genera error). Explicar por qué ocurre el error."
   ]
  },
  {
   "cell_type": "code",
   "execution_count": 1,
   "metadata": {
    "id": "mb7PkXfN-c9j"
   },
   "outputs": [
    {
     "ename": "SyntaxError",
     "evalue": "invalid syntax (1904151116.py, line 5)",
     "output_type": "error",
     "traceback": [
      "\u001b[1;36m  Cell \u001b[1;32mIn[1], line 5\u001b[1;36m\u001b[0m\n\u001b[1;33m    edad del usuario= 21\u001b[0m\n\u001b[1;37m         ^\u001b[0m\n\u001b[1;31mSyntaxError\u001b[0m\u001b[1;31m:\u001b[0m invalid syntax\n"
     ]
    }
   ],
   "source": [
    "# Caso A\n",
    "nombre_completo= \"Benicio Garcia Oliver\"\n",
    "\n",
    "# Caso B (acá debería saltar un error)\n",
    "edad del usuario= 21\n",
    "#Genera un error porque intentamos definir una variable con espacios(una variable de python no puede contener espacios). Por esto utilizamos _ para definir nuestra variable del caso A."
   ]
  },
  {
   "cell_type": "markdown",
   "metadata": {},
   "source": [
    "#### Ejercicio 2\n",
    "Importar módulos. Usando el módulo math impriman la tangente de 1. ¿Cuál es el resultado?\n",
    "Hagan este cálculo de dos formas: primero importando el módulo math y usando la función correspondiente y luego solo importando la función específica que precisan para el cálculo."
   ]
  },
  {
   "cell_type": "code",
   "execution_count": 3,
   "metadata": {},
   "outputs": [
    {
     "name": "stdout",
     "output_type": "stream",
     "text": [
      "Tangente de 1 usando tan() 1.5574077246549023\n"
     ]
    }
   ],
   "source": [
    "# Caso A\n",
    "import math #En primer lugar, utilizamos en comando \"Import\" para importar el modulo \"math\"\n",
    "tangente_de_1_casoA= math.tan(1) #nombramos la variable y calculamos la tangente de 1 utilizando la funcion \"tan\" del modulo math\n",
    "print (\"Tangente de 1 usando math.tan():\", tangente_de_1) #finalmente le pedimos que imprima el resultado con el comando \"print\"\n",
    "# Caso B\n",
    "from math import tan #En el caso B pedimos que se importe solo el comando \"tan\" desde el modulo \"math\" utilizano \"Import\" y \"from\" q especifica desde donde se importa\n",
    "tangente_de_1_casoB= tan(1) #otra vez nombramos la variable haciendo diferencia entre casos, y le pedimos calcular la tangente de 1, ahora a diferencia del cado A utilizamos el comando tan(1) directamente\n",
    "print(\"Tangente de 1 usando tan()\",tangente_de_1_casoB) #Al igual que en el Caso pedimos imprimir el resultado con el comando \"print\"\n",
    "\n",
    "#como se ve en ambos resultados, estos son iguales y no hay diferencia en calcular la tangente utilizando el caso A o el B."
   ]
  },
  {
   "cell_type": "markdown",
   "metadata": {
    "id": "GlNh0fyv-c9l"
   },
   "source": [
    "#### Ejercicio 3 \n",
    "Este ejercicio trata sobre lograr el intercambio de valores entre dos variables utilizando una variable temporal para hacerlo. Las variables temporales y la sustitución de valores termina siendo útil en algunos loops. Los pasos a seguir son: (a) definir variables A y B (cuyos valores buscaremos invertir); (b) definir una variable temporal que resguarde el valor de B; (c) sustitución (asignar B igual a A y también A igual al valor original de B); (d) imprimir valores para verificar."
   ]
  },
  {
   "cell_type": "code",
   "execution_count": 4,
   "metadata": {
    "id": "uWalSYFC-c9m"
   },
   "outputs": [
    {
     "name": "stdout",
     "output_type": "stream",
     "text": [
      "valor A intercambio 2\n",
      "valor B intercambio 1\n"
     ]
    }
   ],
   "source": [
    "# a) Definir variables A y B, le ponemos valor 1 y 2 respectivamente \n",
    "A = 1\n",
    "B = 2\n",
    "\n",
    "# b) Definir variable temporal \"tmp\" igual a B (la variable, no el valor)\n",
    "B=A\n",
    "A=tmp\n",
    "\n",
    "# d) Verifiquemos resultados: imprimir variables A y B\n",
    "print(\"valor A intercambio\", A)\n",
    "print(\"valor B intercambio\", B)"
   ]
  },
  {
   "cell_type": "markdown",
   "metadata": {
    "id": "wXhAaRyN-c9p"
   },
   "source": [
    "#### Ejercicio 4\n",
    "En este ejercicio se busca poner en práctica el uso de range() en un for loop. \n",
    "\n",
    "Construir un for loop usando un range(). El range debe ser entre los valores que quieran (con una diferencia mínima de 15 entre start y stop), en incrementos de 3 unidades. Dentro del loop, implementar una sentencia condicional que imprima una leyenda indicando si el input es par o impar."
   ]
  },
  {
   "cell_type": "code",
   "execution_count": 1,
   "metadata": {
    "id": "_oE5sG0c-c9q"
   },
   "outputs": [
    {
     "name": "stdout",
     "output_type": "stream",
     "text": [
      "0 numero par\n",
      "3 numero impar\n",
      "6 numero par\n",
      "9 numero impar\n",
      "12 numero par\n",
      "15 numero impar\n",
      "18 numero par\n",
      "21 numero impar\n",
      "24 numero par\n",
      "27 numero impar\n"
     ]
    }
   ],
   "source": [
    "# Resolver acá\n",
    "start= 0\n",
    "stop= 30 #definimos los limites del rango de 0 a 30\n",
    "for num in range(start, stop, 3): #Iteramos sobre cada numero del rango, comienza en \"start\" y termina en \"stop\" y tiene incrementos de a 3\n",
    "    if num % 2 == 0: #verificamos si el numero es par utilizando \"%\", si el residuo de la division entre el numero y 2 es cero, el numero es par \n",
    "        print(f\"{num} numero par\")\n",
    "    else: \n",
    "        print(f\"{num} numero impar\")\n",
    "        #le pedimos que si el numero es par imprima el numero y que es par, y si no(utilizando else) le pedimos que imprima el nuemro y que es impar"
   ]
  },
  {
   "cell_type": "markdown",
   "metadata": {
    "id": "h3g5bXUB-c9u"
   },
   "source": [
    "#### Ejercicio 5\n",
    "Para practicar el uso de condiciones lógicas y la definición de funciones, construir una función con una sentencia condicional que verifique si un año es bisiesto o no. Para que un año sea bisiesto debe cumplir una de dos condiciones:\n",
    "\n",
    "(a) que sea divisible por 400; o\n",
    "\n",
    "(b) que sea divisible por 4 y no sea divisible por 100\n",
    "\n",
    "Notar que son dos condiciones, donde la segunda condición tiene dos componentes. Prueben la función con 3 valores para verificar que funcione."
   ]
  },
  {
   "cell_type": "code",
   "execution_count": 7,
   "metadata": {
    "id": "7_MnILdz-c9v"
   },
   "outputs": [
    {
     "name": "stdout",
     "output_type": "stream",
     "text": [
      "2000 es un año bisiesto.\n",
      "2024 es un año bisiesto.\n",
      "2100 no es un año bisiesto.\n"
     ]
    }
   ],
   "source": [
    "# Resolver acá\n",
    "def bisiesto(año): #definimos una variable \"bisiesto\" con parametro año \n",
    "    if (año % 400 == 0) or (año % 4 == 0 and año % 100 != 0): #utilizamos la santencia condicional if y or para verificar las condiciones que hacen un año bisiesto\n",
    "        return True \n",
    "    else:\n",
    "        return False #si alguna de las condiciones se cumple se devuelve el valor True, sin no se cumplen devuelve False\n",
    "#ahora probamos con algunos años\n",
    "años= [2000, 2024, 2100]\n",
    "for año in años:\n",
    "    if bisiesto(año):\n",
    "        print(f\"{año} es un año bisiesto.\") \n",
    "    else:\n",
    "        print(f\"{año} no es un año bisiesto.\")"
   ]
  },
  {
   "cell_type": "markdown",
   "metadata": {
    "collapsed": true,
    "id": "P3a7bJkd-c9w",
    "jupyter": {
     "outputs_hidden": true
    }
   },
   "source": [
    "#### Ejercicio 6 \n",
    "Pongamos en práctica identificar el type() de cada variable. A continuación tenemos una lista con elementos de diferentes tipos. Construyan un for loop que itere sobre la lista e imprima un cartel indicando el tipo de dato u objeto que hay en cada caso."
   ]
  },
  {
   "cell_type": "code",
   "execution_count": null,
   "metadata": {
    "id": "jDf4d_Wr-c9w"
   },
   "outputs": [],
   "source": [
    "mi_lista = [10, 34.5, 99999, 'abc', [1,2,3], ('ARG', 1810), {'pob': 45}, True]"
   ]
  },
  {
   "cell_type": "code",
   "execution_count": 8,
   "metadata": {
    "id": "SAJgEiNEFQAS"
   },
   "outputs": [
    {
     "name": "stdout",
     "output_type": "stream",
     "text": [
      "tipo de dato/objeto del '10' es: <class 'int'>\n",
      "tipo de dato/objeto del '34.5' es: <class 'float'>\n",
      "tipo de dato/objeto del '99999' es: <class 'int'>\n",
      "tipo de dato/objeto del 'abc' es: <class 'str'>\n",
      "tipo de dato/objeto del '[1, 2, 3]' es: <class 'list'>\n",
      "tipo de dato/objeto del '('ARG', 1810)' es: <class 'tuple'>\n",
      "tipo de dato/objeto del '{'pob': 45}' es: <class 'dict'>\n",
      "tipo de dato/objeto del 'True' es: <class 'bool'>\n"
     ]
    }
   ],
   "source": [
    "# Resolver acá\n",
    "mi_lista = [10, 34.5, 99999, 'abc', [1,2,3], ('ARG', 1810), {'pob': 45}, True]\n",
    "for elemento in mi_lista: #creamos un bucle for que itera sobre los elementos de la lista creada previamente. En las iteraciones se guardan en la variable elemento\n",
    "    print(f\"tipo de dato/objeto del '{elemento}' es: {type(elemento)}\") #imprimimos el tipod de dato/objeto de cada elemento usando la funcion type() \n",
    "    "
   ]
  },
  {
   "cell_type": "markdown",
   "metadata": {
    "id": "y1lncitl-c9x"
   },
   "source": [
    "#### Ejercicio 7\n",
    "Ahora definan ustedes una nueva lista, en la que los primeros cuatro elementos sean palabras (strings), el quinto elemento no sea string, y el sexto sea string. Construyan un for loop que corra por la lista y que imprima la palabra y la longitud de la misma. Que el loop contenga una sentencia condicional que imprima un cartel \"Elemento no es un string: < el elemento > | < class del elemento >\" para los casos dónde el elemento evaluado no sea string."
   ]
  },
  {
   "cell_type": "code",
   "execution_count": 9,
   "metadata": {
    "id": "bFOk9Os0-c9x"
   },
   "outputs": [
    {
     "name": "stdout",
     "output_type": "stream",
     "text": [
      "Palabra: Argentina | Longitud: 9\n",
      "Palabra: Messi | Longitud: 5\n",
      "Palabra: UDESA | Longitud: 5\n",
      "Palabra: BigData | Longitud: 7\n",
      "Elemento no es un string: 123 | <class 'int'>\n",
      "Palabra: string | Longitud: 6\n"
     ]
    }
   ],
   "source": [
    "# Resolver acá\n",
    "lista_nueva= [\"Argentina\", \"Messi\", \"UDESA\", \"BigData\", 123, \"string\"] #definimos una nueva lista con valores elegido por nosotros\n",
    "for elemento in lista_nueva: #como en el ejercicio anterior usamos un bucle for\n",
    "    if isinstance(elemento, str): #verificamos si es string con la funcion isinstance\n",
    "        print(f\"Palabra: {elemento} | Longitud: {len(elemento)}\") #si es string utilizamos la funcion len para señalar la longitud de la palabra\n",
    "    else:\n",
    "        print(f\"Elemento no es un string: {elemento} | {type(elemento)}\") #si no es string resaltamos esto y con la funcion type señalamos que tipo de elemento es"
   ]
  },
  {
   "cell_type": "markdown",
   "metadata": {
    "id": "PUpxDz72-c9x"
   },
   "source": [
    "#### Ejercicio 8\n",
    "Argentina tiene una representación legislativa proporcional en la cual la cantidad de diputados se debería ajustar según el tamaño de población de cada provincia. Otra característica de la representación legislativa del país es que hay una cantidad mínima de diputados por provincia (5). Esto genera un desbalance en la cantidad de ciudadanos por cada representante en el Congreso entre provincias.\n",
    "\n",
    "A continuación preparamos algunos ejemplos, dividiendo la población de cada provincia (según estimación para el 2022) por la cantidad de representantes en el Congreso para esa misma jurisdicción. También armamos el equivalente para el total país y una lista con los valores provinciales.\n",
    "\n",
    "En este ejercicio les pedimos que construyan un for loop que itere sobre el diccionario definido y compare cada valor provincial contra el valor de proporcionalidad directa (la variable argentina). El loop debe imprimir una leyenda que indique si la provincia está sobrerepresentada, subrepresentada o con representación proporcional. Además, queremos que el mismo loop compare los valores de las provincias sobrerepresentadas y que guarde el valor de la provincia con mayor sobrerepresentación. Luego del loop impriman este valor así podemos ver que haya funcionado.\n",
    "\n",
    "Fuente para población: https://es.wikipedia.org/wiki/Demograf%C3%ADa_de_Argentina\n",
    "\n",
    "Fuente para representantes: https://es.wikipedia.org/wiki/C%C3%A1mara_de_Diputados_de_la_Naci%C3%B3n_Argentina"
   ]
  },
  {
   "cell_type": "code",
   "execution_count": null,
   "metadata": {
    "id": "hd8Z5AHs-c9y"
   },
   "outputs": [],
   "source": [
    "# Valor de referencia: proporcionalidad\n",
    "argentina = 46044703 / 257\n",
    "\n",
    "# Creamos variables para una selección de jurisdicciones\n",
    "cordoba = 3978984 / 18\n",
    "santa_fe = 3556522 / 19\n",
    "mendoza = 2014533 / 10\n",
    "buenos_aires = 17569053 / 70\n",
    "entre_rios =  1426426 / 9\n",
    "santa_cruz = 333473 / 5\n",
    "formosa = 606041 / 5\n",
    "\n",
    "# Definimos el diccionario para iterar\n",
    "dict_provincias = {\n",
    "    \"Córdoba\": cordoba,\n",
    "    \"Santa Fe\": santa_fe,\n",
    "    \"Mendoza\": mendoza,\n",
    "    \"Buenos Aires\": buenos_aires,\n",
    "    \"Entre Ríos\": entre_rios,\n",
    "    \"Santa Cruz\": santa_cruz,\n",
    "    \"Formosa\": formosa\n",
    "}"
   ]
  },
  {
   "cell_type": "code",
   "execution_count": 5,
   "metadata": {
    "id": "fsEHnxiY-c9y",
    "scrolled": true
   },
   "outputs": [
    {
     "name": "stdout",
     "output_type": "stream",
     "text": [
      "Córdoba está sobrerepresentada.\n",
      "Santa Fe está sobrerepresentada.\n",
      "Mendoza está sobrerepresentada.\n",
      "Buenos Aires está sobrerepresentada.\n",
      "Entre Ríos está subrepresentada.\n",
      "Santa Cruz está subrepresentada.\n",
      "Formosa está subrepresentada.\n",
      "\n",
      "La provincia con mayor sobrerepresentación es: Buenos Aires.\n"
     ]
    }
   ],
   "source": [
    "# Valor de referencia: proporcionalidad\n",
    "argentina = 46044703 / 257\n",
    "\n",
    "# Creamos variables para una selección de jurisdicciones\n",
    "cordoba = 3978984 / 18\n",
    "santa_fe = 3556522 / 19\n",
    "mendoza = 2014533 / 10\n",
    "buenos_aires = 17569053 / 70\n",
    "entre_rios =  1426426 / 9\n",
    "santa_cruz = 333473 / 5\n",
    "formosa = 606041 / 5\n",
    "\n",
    "# Definimos el diccionario para iterar\n",
    "dict_provincias = {\n",
    "    \"Córdoba\": cordoba,\n",
    "    \"Santa Fe\": santa_fe,\n",
    "    \"Mendoza\": mendoza,\n",
    "    \"Buenos Aires\": buenos_aires,\n",
    "    \"Entre Ríos\": entre_rios,\n",
    "    \"Santa Cruz\": santa_cruz,\n",
    "    \"Formosa\": formosa\n",
    "}\n",
    "\n",
    "# Resolver acá\n",
    "# Creamos la variable donde guardamos la provincia con mayor sobrerepresentación\n",
    "mayor_sobrerepresentacion = None\n",
    "max_sobrerepresentacion = 0\n",
    "\n",
    "# Iteramos sobre el diccionario\n",
    "for provincia, representacion in dict_provincias.items():\n",
    "    if representacion > argentina:\n",
    "        print(f\"{provincia} está sobrerepresentada.\") #Imprimimos si la provincia esta sobrerepresentada\n",
    "        if representacion > max_sobrerepresentacion: #si la representacion es mayor que la anterior entonces ahora es la máxima sobrerepresentación\n",
    "            mayor_sobrerepresentacion = provincia # Actualizamos la provincia con mayor sobrerepresentación\n",
    "            max_sobrerepresentacion = representacion # Actualizamos el valor de la máxima sobrerepresentación\n",
    "    elif representacion < argentina:\n",
    "        print(f\"{provincia} está subrepresentada.\")  # Imprimimos si la provincia está subrepresentada\n",
    "    else:\n",
    "        print(f\"{provincia} tiene representación proporcional.\") # Lo mismo si la provincia tiene representación proporcional\n",
    "\n",
    "# Imprimimos la provincia con mayor sobrerepresentación\n",
    "if mayor_sobrerepresentacion:\n",
    "    print(f\"\\nLa provincia con mayor sobrerepresentación es: {mayor_sobrerepresentacion}.\")\n",
    "else:\n",
    "    print(\"\\nNo hay provincias sobrerepresentadas.\")\n",
    "            "
   ]
  },
  {
   "cell_type": "markdown",
   "metadata": {
    "id": "GokZe5tV-c9z"
   },
   "source": [
    "#### Ejercicio 9\n",
    "Si buscáramos minimizar la subrepresentación de la provincia de Buenos Aires, ¿cuántos representantes debería tener según el Censo 2022? Usemos el mismo criterio de sub/sobrerepresentacion que en el ejercicio anterior: población sobre cantidad de representantes.\n",
    "\n",
    "Para responder esta pregunta construyan un while loop que incremente de a uno la cantidad de representantes de la Provincia hasta minimizar la subrepresentación. En cada iteración impriman un cartel que diga: \"Se agregó un representante, el total ahora es X\" dónde X es el número de representantes simulado."
   ]
  },
  {
   "cell_type": "code",
   "execution_count": null,
   "metadata": {
    "id": "x9DvuXa_-c9z"
   },
   "outputs": [],
   "source": [
    "# Estos son los valores de la provincia\n",
    "representantes_pba = 70\n",
    "poblacion2010_pba = 17594428\n",
    "\n",
    "\n",
    "# Y el valor de referencia nacional\n",
    "argentina = 46044703 / 257\n"
   ]
  },
  {
   "cell_type": "code",
   "execution_count": 18,
   "metadata": {},
   "outputs": [
    {
     "name": "stdout",
     "output_type": "stream",
     "text": [
      "\n",
      "Se agregaron en total 0 representantes para minimizar la subrepresentación.\n"
     ]
    }
   ],
   "source": [
    "# Estos son los valores de la provincia\n",
    "representantes_pba = 70\n",
    "poblacion2010_pba = 17594428\n",
    "\n",
    "\n",
    "# Y el valor de referencia nacional\n",
    "argentina = 46044703 / 257\n",
    "\n",
    "# Resolver acá\n",
    "representacion_pba = poblacion2010_pba / representantes_pba #Calculamos la representación actual de Buenos Aires\n",
    "representantes_adicionales = 0 #Creamos una variable para contar los representantes adicionales que se agregan\n",
    "#Mientras la representación actual sea menor que el promedio nacional, incrementamos la cantidad de representantes de Buenos Aires\n",
    "while representacion_pba < argentina:\n",
    "    representantes_pba += 1 #Incrementamos la cantidad de representantes de Buenos Aires en 1\n",
    "    representacion_pba = poblacion2010_pba / representantes_pba #Volvemos a calcular la representación actual de Buenos Aires\n",
    "    representantes_adicionales += 1\n",
    "    print(f\"Se agregó un representante, el total ahora es {representantes_pba}.\")\n",
    "print(f\"\\nSe agregaron en total {representantes_adicionales} representantes para minimizar la subrepresentación.\") #Imprimimos la cantidad total de representantes adicionales agregados"
   ]
  },
  {
   "cell_type": "markdown",
   "metadata": {},
   "source": [
    "#### Ejercicio 10"
   ]
  },
  {
   "cell_type": "markdown",
   "metadata": {},
   "source": [
    "Construyan una función llamada 'suma' que tome una cantidad variable de parámetros y devuelva el resultado de la suma."
   ]
  },
  {
   "cell_type": "code",
   "execution_count": 6,
   "metadata": {},
   "outputs": [
    {
     "name": "stdout",
     "output_type": "stream",
     "text": [
      "6\n",
      "50\n",
      "30\n"
     ]
    }
   ],
   "source": [
    "# Resolver acá\n",
    "def suma(*args):\n",
    "    total = 0 #Empezamos en 0\n",
    "    for num in args: #Iteramos sobre todos los argumentos y los sumamos\n",
    "        total += num\n",
    "    return total #Devolvemos el resultado de la suma\n",
    "#ejemplos\n",
    "print(suma(1, 2, 3))  \n",
    "print(suma(5, 10, 15, 20))  \n",
    "print(suma(2, 4, 6, 8, 10))"
   ]
  },
  {
   "cell_type": "code",
   "execution_count": null,
   "metadata": {},
   "outputs": [],
   "source": []
  }
 ],
 "metadata": {
  "anaconda-cloud": {},
  "colab": {
   "name": "TP1 - Parte 1.ipynb",
   "provenance": []
  },
  "kernelspec": {
   "display_name": "Python 3 (ipykernel)",
   "language": "python",
   "name": "python3"
  },
  "language_info": {
   "codemirror_mode": {
    "name": "ipython",
    "version": 3
   },
   "file_extension": ".py",
   "mimetype": "text/x-python",
   "name": "python",
   "nbconvert_exporter": "python",
   "pygments_lexer": "ipython3",
   "version": "3.11.5"
  }
 },
 "nbformat": 4,
 "nbformat_minor": 4
}
